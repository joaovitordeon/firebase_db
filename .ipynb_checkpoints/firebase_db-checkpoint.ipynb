{
 "cells": [
  {
   "cell_type": "code",
   "execution_count": null,
   "metadata": {},
   "outputs": [],
   "source": [
    "'''\n",
    "script para escrita e leitura de dados no firebase\n",
    "'''"
   ]
  },
  {
   "cell_type": "code",
   "execution_count": 2,
   "metadata": {},
   "outputs": [],
   "source": [
    "import pandas as pd\n",
    "import os\n",
    "\n",
    "import firebase_admin\n",
    "from firebase_admin import credentials, firestore, storage"
   ]
  },
  {
   "cell_type": "code",
   "execution_count": 2,
   "metadata": {},
   "outputs": [],
   "source": [
    "json_key = './campanha-whatsapp-f4cfa-firebase-adminsdk-1dnti-723c3b5b29.json'"
   ]
  },
  {
   "cell_type": "code",
   "execution_count": 3,
   "metadata": {},
   "outputs": [
    {
     "data": {
      "text/plain": [
       "<firebase_admin.App at 0x7f43324c0c88>"
      ]
     },
     "execution_count": 3,
     "metadata": {},
     "output_type": "execute_result"
    }
   ],
   "source": [
    "cred = credentials.Certificate(json_key)\n",
    "\n",
    "firebase_admin.initialize_app(cred ,\n",
    "                              {'storageBucket': 'campanha-whatsapp-f4cfa.appspot.com',\n",
    "                               'projectId':'campanha-whatsapp-f4cfa'}\n",
    "                             )"
   ]
  },
  {
   "cell_type": "code",
   "execution_count": 88,
   "metadata": {},
   "outputs": [],
   "source": [
    "def put_images(imgs: list, customer: str) -> None:\n",
    "    '''\n",
    "    function to upload images to firebase storage\n",
    "    '''\n",
    "    imgs = [imgs] if isinstance(imgs, str) else imgs\n",
    "\n",
    "    try:\n",
    "        bucket = storage.bucket()\n",
    "        \n",
    "        for img in imgs: \n",
    "            blob = bucket.blob(f\"customers/{customer}/{img}\")\n",
    "            blob.upload_from_string(\n",
    "                    img,\n",
    "                    content_type=f\"image/{img.split('.')[-1]}\"\n",
    "                )\n",
    "            #print(blob.public_url)\n",
    "    except Exception as e:\n",
    "        print(e)"
   ]
  },
  {
   "cell_type": "code",
   "execution_count": 75,
   "metadata": {},
   "outputs": [],
   "source": [
    "pics = [file for file in os.listdir() if file.split('.')[-1] in ['png','jpeg','jpg']]"
   ]
  },
  {
   "cell_type": "code",
   "execution_count": 90,
   "metadata": {},
   "outputs": [],
   "source": [
    "put_images(pics, 'riachuelo')"
   ]
  },
  {
   "cell_type": "code",
   "execution_count": 91,
   "metadata": {},
   "outputs": [],
   "source": [
    "def get_images(customer: str) -> list:\n",
    "    '''\n",
    "    function to get images from firebase storage\n",
    "    '''\n",
    "    \n",
    "    try:\n",
    "        bucket = storage.bucket()\n",
    "        return [x.name for x in bucket.list_blobs(prefix=f'customers/{customer}/') ]\n",
    "    \n",
    "    except Exception as e:\n",
    "        print(e)"
   ]
  },
  {
   "cell_type": "code",
   "execution_count": 98,
   "metadata": {},
   "outputs": [],
   "source": [
    "pics_blobs = get_images('riachuelo')"
   ]
  },
  {
   "cell_type": "code",
   "execution_count": 99,
   "metadata": {},
   "outputs": [],
   "source": [
    "def delete_images(blobs: list) -> None:\n",
    "    '''\n",
    "    function to delete images from firebase storage\n",
    "    '''\n",
    "    blobs = [blobs] if isinstance(blobs, str) else blobs\n",
    "    \n",
    "    try:\n",
    "        bucket = storage.bucket()\n",
    "        \n",
    "        for blob in blobs:\n",
    "            bucket.delete_blob(blob)\n",
    "        \n",
    "    except Exception as e:\n",
    "        print(e)"
   ]
  },
  {
   "cell_type": "code",
   "execution_count": 100,
   "metadata": {},
   "outputs": [],
   "source": [
    "delete_images(pics_blobs)"
   ]
  },
  {
   "cell_type": "code",
   "execution_count": 101,
   "metadata": {},
   "outputs": [],
   "source": [
    "#------------------------------------------------------"
   ]
  },
  {
   "cell_type": "code",
   "execution_count": 102,
   "metadata": {},
   "outputs": [],
   "source": [
    "db = firestore.client()"
   ]
  },
  {
   "cell_type": "code",
   "execution_count": 108,
   "metadata": {},
   "outputs": [],
   "source": [
    "df = pd.DataFrame.from_dict({'nome':['joao','vitor'],\n",
    "                             'numero':[83143133,98764530], \n",
    "                             'email':['joaovitordeonss@gmail.com','vitaozs@gmail.com']})"
   ]
  },
  {
   "cell_type": "code",
   "execution_count": 109,
   "metadata": {},
   "outputs": [
    {
     "data": {
      "text/html": [
       "<div>\n",
       "<style scoped>\n",
       "    .dataframe tbody tr th:only-of-type {\n",
       "        vertical-align: middle;\n",
       "    }\n",
       "\n",
       "    .dataframe tbody tr th {\n",
       "        vertical-align: top;\n",
       "    }\n",
       "\n",
       "    .dataframe thead th {\n",
       "        text-align: right;\n",
       "    }\n",
       "</style>\n",
       "<table border=\"1\" class=\"dataframe\">\n",
       "  <thead>\n",
       "    <tr style=\"text-align: right;\">\n",
       "      <th></th>\n",
       "      <th>nome</th>\n",
       "      <th>numero</th>\n",
       "      <th>email</th>\n",
       "    </tr>\n",
       "  </thead>\n",
       "  <tbody>\n",
       "    <tr>\n",
       "      <th>0</th>\n",
       "      <td>joao</td>\n",
       "      <td>83143133</td>\n",
       "      <td>joaovitordeonss@gmail.com</td>\n",
       "    </tr>\n",
       "    <tr>\n",
       "      <th>1</th>\n",
       "      <td>vitor</td>\n",
       "      <td>98764530</td>\n",
       "      <td>vitaozs@gmail.com</td>\n",
       "    </tr>\n",
       "  </tbody>\n",
       "</table>\n",
       "</div>"
      ],
      "text/plain": [
       "    nome    numero                      email\n",
       "0   joao  83143133  joaovitordeonss@gmail.com\n",
       "1  vitor  98764530          vitaozs@gmail.com"
      ]
     },
     "execution_count": 109,
     "metadata": {},
     "output_type": "execute_result"
    }
   ],
   "source": [
    "df"
   ]
  },
  {
   "cell_type": "code",
   "execution_count": 110,
   "metadata": {},
   "outputs": [],
   "source": [
    "customer = u'cea'"
   ]
  },
  {
   "cell_type": "code",
   "execution_count": 111,
   "metadata": {},
   "outputs": [],
   "source": [
    "def put_data(customer: str, df: pd.DataFrame) -> None:\n",
    "    '''\n",
    "    function to put data on cloud firestore\n",
    "    '''\n",
    "    try:\n",
    "        doc_ref = db.collection(customer)\n",
    "\n",
    "        rows = df.to_dict(orient='records')\n",
    "        list(map(lambda x: doc_ref.add(x), rows))\n",
    "    \n",
    "    except Exception as e:\n",
    "        print(e)"
   ]
  },
  {
   "cell_type": "code",
   "execution_count": 112,
   "metadata": {},
   "outputs": [],
   "source": [
    "put_data(customer,df)"
   ]
  },
  {
   "cell_type": "code",
   "execution_count": 42,
   "metadata": {},
   "outputs": [],
   "source": [
    "def get_data(customer: str) -> list:\n",
    "    '''\n",
    "    function to get data from cloud firestore\n",
    "    '''\n",
    "    \n",
    "    doc_ref = db.collection(customer)\n",
    "\n",
    "    docs = doc_ref.stream()\n",
    "    #for doc in docs:\n",
    "    #   print(f'{doc.id} => {doc.to_dict()}')\n",
    "    \n",
    "    return [{doc.id: doc.to_dict()}for doc in docs]"
   ]
  },
  {
   "cell_type": "code",
   "execution_count": 113,
   "metadata": {},
   "outputs": [],
   "source": [
    "list_of_dicts = get_data(customer)"
   ]
  },
  {
   "cell_type": "code",
   "execution_count": 43,
   "metadata": {},
   "outputs": [],
   "source": [
    "def delete_data(customer: str, list_of_dicts: list) -> None:\n",
    "    '''\n",
    "    function to delete data from cloud firestore\n",
    "    '''\n",
    "    keys = [ str(list(dic.keys())[0]) for dic in list_of_dicts]\n",
    "    \n",
    "    try:\n",
    "        doc_ref = db.collection(customer)\n",
    "        list(map(lambda x: doc_ref.document(x).delete(), keys))\n",
    "        \n",
    "    except Exception as e:\n",
    "        print(e)"
   ]
  },
  {
   "cell_type": "code",
   "execution_count": null,
   "metadata": {},
   "outputs": [],
   "source": []
  },
  {
   "cell_type": "code",
   "execution_count": null,
   "metadata": {},
   "outputs": [],
   "source": []
  },
  {
   "cell_type": "code",
   "execution_count": null,
   "metadata": {},
   "outputs": [],
   "source": []
  }
 ],
 "metadata": {
  "kernelspec": {
   "display_name": "Python 3.7.6 64-bit ('base': conda)",
   "language": "python",
   "name": "python37664bitbasecondabbd48a90917f4d75bcd8a217c66d8fc4"
  },
  "language_info": {
   "codemirror_mode": {
    "name": "ipython",
    "version": 3
   },
   "file_extension": ".py",
   "mimetype": "text/x-python",
   "name": "python",
   "nbconvert_exporter": "python",
   "pygments_lexer": "ipython3",
   "version": "3.7.3"
  }
 },
 "nbformat": 4,
 "nbformat_minor": 4
}
